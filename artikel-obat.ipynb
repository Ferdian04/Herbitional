{
 "cells": [
  {
   "cell_type": "code",
   "execution_count": null,
   "metadata": {},
   "outputs": [],
   "source": [
    "import numpy as np\n",
    "import pandas as pd\n",
    "from sklearn.feature_extraction.text import TfidfVectorizer\n",
    "from sklearn.model_selection import train_test_split\n",
    "from sklearn.naive_bayes import MultinomialNB\n",
    "from sklearn.metrics import accuracy_score\n",
    "import tensorflow as tf\n",
    "import re\n",
    "import string\n",
    "import nltk\n",
    "from nltk.corpus import stopwords\n",
    "from nltk.tokenize import word_tokenize\n",
    "from nltk.stem import WordNetLemmatizer\n",
    "from sklearn.utils import shuffle\n",
    "import matplotlib.pyplot as plt\n",
    "from nltk.stem import SnowballStemmer\n",
    "from sklearn.preprocessing import LabelEncoder\n",
    "import joblib\n",
    "\n",
    "# Download NLTK resources\n",
    "nltk.download('punkt')\n",
    "nltk.download('stopwords')\n",
    "nltk.download('wordnet')"
   ]
  },
  {
   "cell_type": "code",
   "execution_count": null,
   "metadata": {},
   "outputs": [],
   "source": [
    "# Load the dataset\n",
    "df = pd.read_csv('tabel_artikel_1.csv')\n",
    "khasiat = pd.concat([df['id'],df['nama_obat'], df['khasiat']], axis=1)\n",
    "khasiat.to_csv('khasiat.csv')"
   ]
  },
  {
   "cell_type": "code",
   "execution_count": null,
   "metadata": {},
   "outputs": [],
   "source": [
    "# Shuffle the dataset\n",
    "df = shuffle(df, random_state=42)\n",
    "\n",
    "def preProcessing(df, col):\n",
    "    # Lowercase the text\n",
    "    df[f'{col}'] = df[f'{col}'].str.lower()\n",
    "\n",
    "    # Remove special characters and numbers\n",
    "    df[f'{col}'] = df[f'{col}'].apply(lambda x: re.sub(r'\\d+|\\$', '', x))\n",
    "    df[f'{col}'] = df[f'{col}'].apply(lambda x: x.translate(str.maketrans('', '', string.punctuation)))\n",
    "\n",
    "    # Tokenization\n",
    "    df[f'{col}'] = df[f'{col}'].apply(lambda x: word_tokenize(x))\n",
    "\n",
    "    # Remove stop words\n",
    "    stop_words = set(stopwords.words('indonesian'))\n",
    "    df[f'{col}'] = df[f'{col}'].apply(lambda x: [word for word in x if word not in stop_words])\n",
    "\n",
    "    # Lemmatization\n",
    "    lemmatizer = WordNetLemmatizer()\n",
    "    df[f'{col}'] = df[f'{col}'].apply(lambda x: [lemmatizer.lemmatize(word) for word in x])\n",
    "\n",
    "    # Convert the preprocessed data back to string\n",
    "    df[f'{col}'] = df[f'{col}'].apply(lambda x: ' '.join(x))\n",
    "    return df\n",
    "\n",
    "# # Split the data into training and testing sets\n",
    "# X_train, X_test, y_train, y_test = train_test_split(df['text'], df['category'], test_size=0.2, random_state=42)\n",
    "\n",
    "def plot(data, title):\n",
    "    val_count = data.khasiat.value_counts()\n",
    "    plt.figure(figsize=(8,4))\n",
    "    plt.bar(val_count.index, val_count.values)\n",
    "    plt.title(title)\n",
    "\n"
   ]
  },
  {
   "cell_type": "code",
   "execution_count": null,
   "metadata": {},
   "outputs": [],
   "source": [
    "khasiat = preProcessing(khasiat, 'khasiat')\n",
    "khasiat.to_csv('khasiat2.csv')"
   ]
  },
  {
   "cell_type": "code",
   "execution_count": null,
   "metadata": {},
   "outputs": [],
   "source": [
    "# TF-IDF vectorization\n",
    "vectorizer = TfidfVectorizer()\n",
    "X_train_tfidf = vectorizer.fit_transform(khasiat['khasiat'])"
   ]
  },
  {
   "cell_type": "code",
   "execution_count": null,
   "metadata": {},
   "outputs": [],
   "source": [
    "# Train a Naive Bayes classifier\n",
    "nb_classifier = MultinomialNB()\n",
    "nb_classifier.fit(X_train_tfidf, khasiat['khasiat'])"
   ]
  },
  {
   "cell_type": "code",
   "execution_count": null,
   "metadata": {},
   "outputs": [],
   "source": [
    "# Using TensorFlow for evaluation\n",
    "\n",
    "# Convert labels to numerical values\n",
    "all_labels = np.unique(khasiat['nama_obat'])\n",
    "label_encoder = LabelEncoder()\n",
    "label_encoder.fit(all_labels)\n",
    "train_labels_encoded = label_encoder.fit_transform(khasiat['nama_obat'])\n",
    "\n",
    "# Convert labels to one-hot encoding\n",
    "num_classes = len(label_encoder.classes_)\n",
    "y_train_encoded = tf.keras.utils.to_categorical(train_labels_encoded, num_classes=num_classes)\n",
    "num_classes"
   ]
  },
  {
   "cell_type": "code",
   "execution_count": null,
   "metadata": {},
   "outputs": [],
   "source": [
    "# Define a simple neural network model\n",
    "model = tf.keras.Sequential([\n",
    "    tf.keras.layers.Dense(64, activation='relu', input_shape=(X_train_tfidf.shape[1],)),\n",
    "    tf.keras.layers.Dense(num_classes, activation='softmax')\n",
    "])\n",
    "\n",
    "# Compile and train the model\n",
    "model.compile(optimizer='adam', loss='categorical_crossentropy', metrics=['accuracy'])\n",
    "history = model.fit(X_train_tfidf.toarray(), y_train_encoded, epochs=1000, batch_size=32, verbose=1)"
   ]
  },
  {
   "cell_type": "code",
   "execution_count": null,
   "metadata": {},
   "outputs": [],
   "source": [
    "# Extract accuracy and loss values from the training history\n",
    "train_accuracy = history.history['accuracy']\n",
    "train_loss = history.history['loss']\n",
    "\n",
    "\n",
    "# Plot accuracy curves\n",
    "plt.figure(figsize=(8, 4))\n",
    "plt.plot(train_accuracy, label='Train Accuracy')\n",
    "plt.title('Model Accuracy')\n",
    "plt.xlabel('Epoch')\n",
    "plt.ylabel('Accuracy')\n",
    "plt.legend()\n",
    "plt.show()\n",
    "\n",
    "# Plot loss curves\n",
    "plt.figure(figsize=(8, 4))\n",
    "plt.plot(train_loss, label='Train Loss')\n",
    "plt.title('Model Loss')\n",
    "plt.xlabel('Epoch')\n",
    "plt.ylabel('Loss')\n",
    "plt.legend()\n",
    "plt.show()"
   ]
  },
  {
   "cell_type": "code",
   "execution_count": null,
   "metadata": {},
   "outputs": [],
   "source": [
    "# Save the model in HDF5 format (.h5)\n",
    "model.save('artikel-obat-model.h5')\n",
    "\n",
    "# Save the model in Protocol Buffer format (.pb)\n",
    "tf.saved_model.save(model, 'artikel-obat-model.pb')\n",
    "\n",
    "# Save the vectorizer and label encoder\n",
    "joblib.dump(vectorizer, 'vectorizer.pkl')\n",
    "joblib.dump(label_encoder, 'label_encoder.pkl')\n",
    "\n",
    "# Load the saved model\n",
    "model = tf.keras.models.load_model('artikel-obat-model.h5')\n"
   ]
  },
  {
   "cell_type": "code",
   "execution_count": null,
   "metadata": {},
   "outputs": [],
   "source": [
    "def preprocess_input_text(input_text):\n",
    "    # Lowercase the text\n",
    "    input_text = input_text.lower()\n",
    "\n",
    "    # Remove special characters and numbers\n",
    "    input_text = re.sub(r'\\d+|\\$', '', input_text)\n",
    "    input_text = input_text.translate(str.maketrans('', '', string.punctuation))\n",
    "\n",
    "    # Tokenization\n",
    "    input_text = word_tokenize(input_text)\n",
    "\n",
    "    # Remove stop words\n",
    "    stop_words = set(stopwords.words('indonesian'))\n",
    "    input_text = [word for word in input_text if word not in stop_words]\n",
    "\n",
    "    # Lemmatization\n",
    "    lemmatizer = WordNetLemmatizer()\n",
    "    input_text = [lemmatizer.lemmatize(word) for word in input_text]\n",
    "\n",
    "    # Convert the preprocessed data back to string\n",
    "    input_text = ' '.join(input_text)\n",
    "\n",
    "    return input_text"
   ]
  },
  {
   "cell_type": "code",
   "execution_count": 14,
   "metadata": {},
   "outputs": [
    {
     "name": "stdout",
     "output_type": "stream",
     "text": [
      "User input: usus buntu\n",
      "Top 5 Predicted Labels:\n",
      "Bidara Upas: 0.7517\n",
      "Rumput Mutiara: 0.1455\n",
      "Ekor Kucing: 0.0623\n",
      "Pegagan: 0.0176\n",
      "Arairut (Garut): 0.0062\n"
     ]
    }
   ],
   "source": [
    "# Preprocess the input data\n",
    "input_text = 'usus buntu'\n",
    "input_text = preprocess_input_text(input_text) # Replace 'your input text' with the actual text you want to predict\n",
    "\n",
    "# Transform the input text using the same vectorizer used during training\n",
    "input_text_tfidf = vectorizer.transform([input_text])\n",
    "\n",
    "# Make predictions using the loaded model\n",
    "predictions = model.predict(input_text_tfidf.toarray())\n",
    "\n",
    "# Get the top 5 predicted labels and their corresponding probabilities\n",
    "top_k = 5\n",
    "top_k_indices = np.argsort(predictions, axis=1)[:, -top_k:][0]\n",
    "top_k_probabilities = predictions[0, top_k_indices]\n",
    "\n",
    "# Convert the predicted label indices to category labels\n",
    "predicted_labels = label_encoder.inverse_transform(top_k_indices)\n",
    "\n",
    "# Print the top 5 predicted labels and their probabilities\n",
    "out = []\n",
    "print(f\"User input: {input_text}\")\n",
    "print(\"Top 5 Predicted Labels:\")\n",
    "for label, probability in zip(predicted_labels, top_k_probabilities):\n",
    "    out.append(f\"{label}: {probability:.4f}\")\n",
    "out = out[::-1]\n",
    "print('\\n'.join(str(element) for element in out))\n"
   ]
  }
 ],
 "metadata": {
  "kernelspec": {
   "display_name": "ml",
   "language": "python",
   "name": "python3"
  },
  "language_info": {
   "codemirror_mode": {
    "name": "ipython",
    "version": 3
   },
   "file_extension": ".py",
   "mimetype": "text/x-python",
   "name": "python",
   "nbconvert_exporter": "python",
   "pygments_lexer": "ipython3",
   "version": "3.7.12"
  },
  "orig_nbformat": 4
 },
 "nbformat": 4,
 "nbformat_minor": 2
}
