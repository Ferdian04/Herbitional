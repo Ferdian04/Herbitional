{
 "cells": [
  {
   "cell_type": "code",
   "execution_count": 23,
   "metadata": {},
   "outputs": [],
   "source": [
    "import re\n",
    "import csv\n",
    "import tensorflow as tf\n",
    "import pandas as pd\n",
    "import numpy as np\n",
    "from sklearn.preprocessing import LabelEncoder\n",
    "from tensorflow import keras\n",
    "from tensorflow.keras import layers\n"
   ]
  },
  {
   "cell_type": "code",
   "execution_count": 24,
   "metadata": {},
   "outputs": [],
   "source": [
    "# Read Dataset\n",
    "train_dataset = pd.read_csv('./Data/Gejala_Penyakit_Train.csv')\n",
    "test_dataset = pd.read_csv('./Data/Gejala_Penyakit_Test.csv')"
   ]
  },
  {
   "cell_type": "code",
   "execution_count": 25,
   "metadata": {},
   "outputs": [],
   "source": [
    "# Data Preparation \n",
    "# Split Data fitur/gejala (x) dan label/penyakit (y)\n",
    "cols_train= train_dataset.columns\n",
    "cols_train= cols_train[:-1]\n",
    "cols_test= test_dataset.columns\n",
    "cols_test= cols_test[:-1]\n",
    "x_train = train_dataset[cols_train]\n",
    "y_train = train_dataset['Prognosis']\n",
    "x_test = test_dataset[cols_test]\n",
    "y_test = test_dataset['Prognosis']\n"
   ]
  },
  {
   "cell_type": "code",
   "execution_count": 26,
   "metadata": {},
   "outputs": [],
   "source": [
    "label_encoder = LabelEncoder()\n",
    "# Fit label encoder and return encoded labels.\n",
    "y_train = label_encoder.fit_transform(y_train)\n",
    "# Transform labels to normalized encoding.\n",
    "y_test = label_encoder.transform(y_test)"
   ]
  },
  {
   "cell_type": "code",
   "execution_count": 30,
   "metadata": {},
   "outputs": [
    {
     "name": "stdout",
     "output_type": "stream",
     "text": [
      "Epoch 1/10\n",
      "15/15 [==============================] - 5s 9ms/step - loss: 3.7600 - accuracy: 0.1347\n",
      "Epoch 2/10\n",
      "15/15 [==============================] - 0s 8ms/step - loss: 3.4386 - accuracy: 0.3516\n",
      "Epoch 3/10\n",
      "15/15 [==============================] - 0s 13ms/step - loss: 2.9916 - accuracy: 0.5789\n",
      "Epoch 4/10\n",
      "15/15 [==============================] - 0s 9ms/step - loss: 2.4129 - accuracy: 0.7663\n",
      "Epoch 5/10\n",
      "15/15 [==============================] - 0s 6ms/step - loss: 1.7559 - accuracy: 0.8863\n",
      "Epoch 6/10\n",
      "15/15 [==============================] - 0s 7ms/step - loss: 1.1539 - accuracy: 0.9474\n",
      "Epoch 7/10\n",
      "15/15 [==============================] - 0s 9ms/step - loss: 0.7237 - accuracy: 0.9811\n",
      "Epoch 8/10\n",
      "15/15 [==============================] - 0s 11ms/step - loss: 0.4524 - accuracy: 0.9895\n",
      "Epoch 9/10\n",
      "15/15 [==============================] - 0s 14ms/step - loss: 0.2956 - accuracy: 0.9937\n",
      "Epoch 10/10\n",
      "15/15 [==============================] - 0s 12ms/step - loss: 0.2093 - accuracy: 0.9958\n"
     ]
    }
   ],
   "source": [
    "model = tf.keras.Sequential([\n",
    "    tf.keras.layers.Dense(128, activation='relu', input_shape=(len(cols_train),)), # Ada 118 kelas gejala\n",
    "    tf.keras.layers.Dense(128, activation='relu'),\n",
    "    tf.keras.layers.Dense(len(set(y_train)), activation='softmax') # Ada 47 kelas penyakit\n",
    "])\n",
    "\n",
    "model.compile(optimizer='adam', loss='SparseCategoricalCrossentropy', metrics=['accuracy'])\n",
    "\n",
    "clf = model.fit(x_train, y_train, epochs=10, batch_size=32, verbose=1)"
   ]
  },
  {
   "cell_type": "code",
   "execution_count": 31,
   "metadata": {},
   "outputs": [
    {
     "name": "stdout",
     "output_type": "stream",
     "text": [
      "WARNING:tensorflow:5 out of the last 9 calls to <function Model.make_test_function.<locals>.test_function at 0x00000256E9003550> triggered tf.function retracing. Tracing is expensive and the excessive number of tracings could be due to (1) creating @tf.function repeatedly in a loop, (2) passing tensors with different shapes, (3) passing Python objects instead of tensors. For (1), please define your @tf.function outside of the loop. For (2), @tf.function has reduce_retracing=True option that can avoid unnecessary retracing. For (3), please refer to https://www.tensorflow.org/guide/function#controlling_retracing and https://www.tensorflow.org/api_docs/python/tf/function for  more details.\n",
      "2/2 [==============================] - 1s 16ms/step - loss: 0.2299 - accuracy: 1.0000\n",
      "Test accuracy: 1.0\n",
      "Test loss: 0.22992879152297974\n"
     ]
    }
   ],
   "source": [
    "# Evaluate Model to testing dataset\n",
    "test_loss, test_acc = model.evaluate(x_test, y_test)\n",
    "print('Test accuracy:', test_acc)\n",
    "print('Test loss:', test_loss)"
   ]
  },
  {
   "cell_type": "code",
   "execution_count": 32,
   "metadata": {},
   "outputs": [
    {
     "name": "stdout",
     "output_type": "stream",
     "text": [
      "WARNING:tensorflow:5 out of the last 5 calls to <function Model.make_predict_function.<locals>.predict_function at 0x00000256E911C9D0> triggered tf.function retracing. Tracing is expensive and the excessive number of tracings could be due to (1) creating @tf.function repeatedly in a loop, (2) passing tensors with different shapes, (3) passing Python objects instead of tensors. For (1), please define your @tf.function outside of the loop. For (2), @tf.function has reduce_retracing=True option that can avoid unnecessary retracing. For (3), please refer to https://www.tensorflow.org/guide/function#controlling_retracing and https://www.tensorflow.org/api_docs/python/tf/function for  more details.\n",
      "1/1 [==============================] - 0s 149ms/step\n",
      "Predicted classes: ['Hipersomnia' 'Insomnia' 'Jet Lag' 'Bintitan' 'Katarak']\n"
     ]
    }
   ],
   "source": [
    "# Try Predict to X_test data samples\n",
    "# new_samples = np.array([[1, 1, 1, 0, 0, 0, 0, 0, 0, 0, 0, 0, 0, 0, 0, 0, 0, 0, 0, 0, 0, 0, 0, 0, 0, 0, 0, 0, 0, 0, 0, 0, 0, 0, 0, 0, 0, 0, 0, 0, 0, 0, 0, 0, 0, 0, 0, 0, 0, 0, 0, 0, 0, 0, 0, 0, 0, 0, 0, 0, 0, 0, 0, 0, 0, 0, 0, 0, 0, 0, 0, 0, 0, 0, 0, 0, 0, 0, 0, 0, 0, 0, 0, 0, 0, 0, 0, 0, 0, 0, 0, 0, 0, 0, 0, 0, 0, 0, 0, 0, 0, 0, 1, 0, 0, 0, 0, 0, 0, 0, 0, 0, 0, 0, 0, 0, 0, 0, 0, 0, 0, 0, 0, 0, 0, 0, 0, 0, 0, 0, 0, 0]])\n",
    "\n",
    "new_samples = x_test[:5]\n",
    "predictions = model.predict(new_samples)\n",
    "predicted_classes = np.argmax(predictions, axis=1)\n",
    "predicted_classes = label_encoder.inverse_transform(predicted_classes)  # Mengembalikan label penyakit ke bentuk semula\n",
    "print('Predicted classes:', predicted_classes)"
   ]
  }
 ],
 "metadata": {
  "kernelspec": {
   "display_name": "Python 3",
   "language": "python",
   "name": "python3"
  },
  "language_info": {
   "codemirror_mode": {
    "name": "ipython",
    "version": 3
   },
   "file_extension": ".py",
   "mimetype": "text/x-python",
   "name": "python",
   "nbconvert_exporter": "python",
   "pygments_lexer": "ipython3",
   "version": "3.8.6"
  },
  "orig_nbformat": 4
 },
 "nbformat": 4,
 "nbformat_minor": 2
}
