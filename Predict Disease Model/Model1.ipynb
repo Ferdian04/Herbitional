{
 "cells": [
  {
   "cell_type": "code",
   "execution_count": 1,
   "metadata": {},
   "outputs": [],
   "source": [
    "import re\n",
    "import csv\n",
    "import tensorflow as tf\n",
    "import pandas as pd\n",
    "import numpy as np\n",
    "import tensorflow as tf\n",
    "import matplotlib.pyplot as plt\n",
    "from sklearn.model_selection import train_test_split\n",
    "from sklearn.preprocessing import LabelEncoder\n",
    "from tensorflow import keras\n",
    "from tensorflow.keras import layers\n",
    "\n",
    "from sklearn import preprocessing\n",
    "from sklearn.tree import DecisionTreeClassifier,_tree\n",
    "from sklearn.model_selection import train_test_split\n",
    "from sklearn.model_selection import cross_val_score\n",
    "from sklearn.svm import SVC"
   ]
  },
  {
   "cell_type": "code",
   "execution_count": 2,
   "metadata": {},
   "outputs": [],
   "source": [
    "# Read Dataset\n",
    "train_dataset = pd.read_csv('./Data/Training.csv')\n",
    "test_dataset = pd.read_csv('./Data/Testing.csv')"
   ]
  },
  {
   "cell_type": "code",
   "execution_count": 3,
   "metadata": {},
   "outputs": [],
   "source": [
    "# Data Preparation \n",
    "# Split Data fitur/gejala (x) dan label/penyakit (y)\n",
    "cols_train= train_dataset.columns\n",
    "cols_train= cols_train[:-1]\n",
    "cols_test= test_dataset.columns\n",
    "cols_test= cols_test[:-1]\n",
    "x_train = train_dataset[cols_train]\n",
    "y_train = train_dataset['prognosis']\n",
    "x_test = test_dataset[cols_test]\n",
    "y_test = test_dataset['prognosis']\n"
   ]
  },
  {
   "cell_type": "code",
   "execution_count": 4,
   "metadata": {},
   "outputs": [],
   "source": [
    "label_encoder = LabelEncoder()\n",
    "# Fit label encoder and return encoded labels.\n",
    "y_train = label_encoder.fit_transform(y_train)\n",
    "# Transform labels to normalized encoding.\n",
    "y_test = label_encoder.transform(y_test)"
   ]
  },
  {
   "cell_type": "code",
   "execution_count": 19,
   "metadata": {},
   "outputs": [
    {
     "name": "stdout",
     "output_type": "stream",
     "text": [
      "Epoch 1/10\n",
      "154/154 [==============================] - 7s 11ms/step - loss: 1.2562 - accuracy: 0.8827\n",
      "Epoch 2/10\n",
      "154/154 [==============================] - 2s 12ms/step - loss: 0.0189 - accuracy: 1.0000\n",
      "Epoch 3/10\n",
      "154/154 [==============================] - 2s 14ms/step - loss: 0.0058 - accuracy: 1.0000\n",
      "Epoch 4/10\n",
      "154/154 [==============================] - 2s 14ms/step - loss: 0.0030 - accuracy: 1.0000\n",
      "Epoch 5/10\n",
      "154/154 [==============================] - 2s 13ms/step - loss: 0.0018 - accuracy: 1.0000\n",
      "Epoch 6/10\n",
      "154/154 [==============================] - 2s 10ms/step - loss: 0.0012 - accuracy: 1.0000\n",
      "Epoch 7/10\n",
      "154/154 [==============================] - 1s 9ms/step - loss: 8.6169e-04 - accuracy: 1.0000\n",
      "Epoch 8/10\n",
      "154/154 [==============================] - 2s 12ms/step - loss: 6.4847e-04 - accuracy: 1.0000\n",
      "Epoch 9/10\n",
      "154/154 [==============================] - 1s 9ms/step - loss: 4.9976e-04 - accuracy: 1.0000\n",
      "Epoch 10/10\n",
      "154/154 [==============================] - 2s 10ms/step - loss: 3.9887e-04 - accuracy: 1.0000\n"
     ]
    },
    {
     "data": {
      "text/plain": [
       "<keras.callbacks.History at 0x23ed875bfa0>"
      ]
     },
     "execution_count": 19,
     "metadata": {},
     "output_type": "execute_result"
    }
   ],
   "source": [
    "model = tf.keras.Sequential([\n",
    "    tf.keras.layers.Dense(128, activation='relu', input_shape=(len(cols_train),)), # Ada 132 kelas gejala, bisa juga ganti jadi len(cols_train) = 132\n",
    "    tf.keras.layers.Dense(128, activation='relu'),\n",
    "    tf.keras.layers.Dense(len(set(y_train)), activation='softmax') # Ada 41 kelas penyakit, bisa juga ganti jadi len(set(y)) = 41\n",
    "])\n",
    "\n",
    "model.compile(optimizer='adam', loss='SparseCategoricalCrossentropy', metrics=['accuracy'])\n",
    "\n",
    "clf = model.fit(x_train, y_train, epochs=10, batch_size=32, verbose=1)"
   ]
  },
  {
   "cell_type": "code",
   "execution_count": 6,
   "metadata": {},
   "outputs": [
    {
     "name": "stdout",
     "output_type": "stream",
     "text": [
      "2/2 [==============================] - 2s 16ms/step - loss: 7.1522e-05 - accuracy: 1.0000\n",
      "Test accuracy: 1.0\n",
      "Test loss: 7.152248144848272e-05\n"
     ]
    }
   ],
   "source": [
    "# Evaluate Model to testing dataset\n",
    "test_loss, test_acc = model.evaluate(x_test, y_test)\n",
    "print('Test accuracy:', test_acc)\n",
    "print('Test loss:', test_loss)"
   ]
  },
  {
   "cell_type": "code",
   "execution_count": 7,
   "metadata": {},
   "outputs": [
    {
     "name": "stdout",
     "output_type": "stream",
     "text": [
      "1/1 [==============================] - 2s 2s/step\n",
      "Predicted classes: ['Fungal infection' 'Allergy' 'GERD' 'Chronic cholestasis' 'Drug Reaction']\n"
     ]
    }
   ],
   "source": [
    "# Try Predict to X_test data samples\n",
    "# new_samples = np.array([[1, 1, 1, 0, 0, 0, 0, 0, 0, 0, 0, 0, 0, 0, 0, 0, 0, 0, 0, 0, 0, 0, 0, 0, 0, 0, 0, 0, 0, 0, 0, 0, 0, 0, 0, 0, 0, 0, 0, 0, 0, 0, 0, 0, 0, 0, 0, 0, 0, 0, 0, 0, 0, 0, 0, 0, 0, 0, 0, 0, 0, 0, 0, 0, 0, 0, 0, 0, 0, 0, 0, 0, 0, 0, 0, 0, 0, 0, 0, 0, 0, 0, 0, 0, 0, 0, 0, 0, 0, 0, 0, 0, 0, 0, 0, 0, 0, 0, 0, 0, 0, 0, 1, 0, 0, 0, 0, 0, 0, 0, 0, 0, 0, 0, 0, 0, 0, 0, 0, 0, 0, 0, 0, 0, 0, 0, 0, 0, 0, 0, 0, 0]])\n",
    "\n",
    "new_samples = x_test[:5]\n",
    "predictions = model.predict(new_samples)\n",
    "predicted_classes = np.argmax(predictions, axis=1)\n",
    "predicted_classes = label_encoder.inverse_transform(predicted_classes)  # Mengembalikan label penyakit ke bentuk semula\n",
    "print('Predicted classes:', predicted_classes)"
   ]
  },
  {
   "cell_type": "code",
   "execution_count": 10,
   "metadata": {},
   "outputs": [],
   "source": [
    "severityDictionary=dict()\n",
    "description_list = dict()\n",
    "precautionDictionary=dict()\n",
    "\n",
    "symptoms_dict = {}\n",
    "\n",
    "for index, symptom in enumerate(x_train):\n",
    "  symptoms_dict[symptom] = index\n",
    "def calc_condition(exp,days):\n",
    "  sum=0\n",
    "  for item in exp:\n",
    "    sum=sum+severityDictionary[item]\n",
    "  if((sum*days)/(len(exp)+1)>13):\n",
    "    print(\"You should take the consultation from doctor. \")\n",
    "  else:\n",
    "    print(\"It might not be that bad but you should take precautions.\")"
   ]
  },
  {
   "cell_type": "code",
   "execution_count": 11,
   "metadata": {},
   "outputs": [],
   "source": [
    "def getDescription():\n",
    "  global description_list\n",
    "  with open('MasterData/symptom_Description.csv') as csv_file:\n",
    "    csv_reader = csv.reader(csv_file, delimiter=',')\n",
    "    line_count = 0\n",
    "    for row in csv_reader:\n",
    "      _description={row[0]:row[1]}\n",
    "      description_list.update(_description)"
   ]
  },
  {
   "cell_type": "code",
   "execution_count": 12,
   "metadata": {},
   "outputs": [],
   "source": [
    "def getSeverityDict():\n",
    "  global severityDictionary\n",
    "  with open('MasterData/symptom_severity.csv') as csv_file:\n",
    "\n",
    "    csv_reader = csv.reader(csv_file, delimiter=',')\n",
    "    line_count = 0\n",
    "    try:\n",
    "      for row in csv_reader:\n",
    "        _diction={row[0]:int(row[1])}\n",
    "        severityDictionary.update(_diction)\n",
    "    except:\n",
    "      pass"
   ]
  },
  {
   "cell_type": "code",
   "execution_count": 13,
   "metadata": {},
   "outputs": [],
   "source": [
    "def getprecautionDict():\n",
    "  global precautionDictionary\n",
    "  with open('MasterData/symptom_precaution.csv') as csv_file:\n",
    "\n",
    "    csv_reader = csv.reader(csv_file, delimiter=',')\n",
    "    line_count = 0\n",
    "    for row in csv_reader:\n",
    "      _prec={row[0]:[row[1],row[2],row[3],row[4]]}\n",
    "      precautionDictionary.update(_prec)"
   ]
  }
 ],
 "metadata": {
  "kernelspec": {
   "display_name": "Python 3",
   "language": "python",
   "name": "python3"
  },
  "language_info": {
   "codemirror_mode": {
    "name": "ipython",
    "version": 3
   },
   "file_extension": ".py",
   "mimetype": "text/x-python",
   "name": "python",
   "nbconvert_exporter": "python",
   "pygments_lexer": "ipython3",
   "version": "3.8.6"
  },
  "orig_nbformat": 4
 },
 "nbformat": 4,
 "nbformat_minor": 2
}
